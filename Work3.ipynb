{
 "cells": [
  {
   "cell_type": "code",
   "execution_count": null,
   "metadata": {},
   "outputs": [],
   "source": [
    "import pandas as pd\n",
    "import pylab as plt\n",
    "import numpy as np\n",
    "import statsmodels.api as sm"
   ]
  },
  {
   "cell_type": "code",
   "execution_count": 23,
   "metadata": {
    "collapsed": true
   },
   "outputs": [],
   "source": [
    "pd.set_option('display.width',1000)"
   ]
  },
  {
   "cell_type": "code",
   "execution_count": 6,
   "metadata": {},
   "outputs": [
    {
     "name": "stdout",
     "output_type": "stream",
     "text": [
      "     success  news intensity  price  sentiment\n",
      "395        0             620  60.00          2\n",
      "396        0             560  45.60          3\n",
      "397        0             460  39.45          2\n",
      "398        0             700  54.75          2\n",
      "399        0             600  58.35          3\n"
     ]
    }
   ],
   "source": [
    "df = pd.read_csv('logistic_trades.csv')\n",
    "print(df.tail())"
   ]
  },
  {
   "cell_type": "code",
   "execution_count": 7,
   "metadata": {},
   "outputs": [
    {
     "name": "stdout",
     "output_type": "stream",
     "text": [
      "          success  news intensity       price  sentiment\n",
      "count  400.000000      400.000000  400.000000  400.00000\n",
      "mean     0.317500      587.700000   50.848500    2.48500\n",
      "std      0.466087      115.516536    5.708502    0.94446\n",
      "min      0.000000      220.000000   33.900000    1.00000\n",
      "25%      0.000000      520.000000   46.950000    2.00000\n",
      "50%      0.000000      580.000000   50.925000    2.00000\n",
      "75%      1.000000      660.000000   55.050000    3.00000\n",
      "max      1.000000      800.000000   60.000000    4.00000\n"
     ]
    }
   ],
   "source": [
    "print(df.describe())"
   ]
  },
  {
   "cell_type": "code",
   "execution_count": 8,
   "metadata": {},
   "outputs": [
    {
     "name": "stdout",
     "output_type": "stream",
     "text": [
      "success             0.3175\n",
      "news intensity    587.7000\n",
      "price              50.8485\n",
      "sentiment           2.4850\n",
      "dtype: float64\n"
     ]
    }
   ],
   "source": [
    "print(df.mean())"
   ]
  },
  {
   "cell_type": "code",
   "execution_count": 11,
   "metadata": {},
   "outputs": [
    {
     "name": "stdout",
     "output_type": "stream",
     "text": [
      "sentiment   1   2   3   4\n",
      "success                  \n",
      "0          28  97  93  55\n",
      "1          33  54  28  12\n"
     ]
    }
   ],
   "source": [
    "print(pd.crosstab(df['success'],df['sentiment'],rownames=['success']))"
   ]
  },
  {
   "cell_type": "code",
   "execution_count": 19,
   "metadata": {},
   "outputs": [
    {
     "data": {
      "image/png": "[encoded data removed]",
      "text/plain": [
       "<matplotlib.figure.Figure at 0x114012908>"
      ]
     },
     "metadata": {},
     "output_type": "display_data"
    }
   ],
   "source": [
    "df.hist()\n",
    "plt.show()"
   ]
  },
  {
   "cell_type": "code",
   "execution_count": 21,
   "metadata": {},
   "outputs": [
    {
     "name": "stdout",
     "output_type": "stream",
     "text": [
      "   sentiment_1  sentiment_2  sentiment_3  sentiment_4\n",
      "0            0            0            1            0\n",
      "1            0            0            1            0\n",
      "2            1            0            0            0\n",
      "3            0            0            0            1\n",
      "4            0            0            0            1\n"
     ]
    }
   ],
   "source": [
    "data_dummy = pd.get_dummies(df.sentiment,prefix='sentiment')\n",
    "print(data_dummy.head())"
   ]
  },
  {
   "cell_type": "code",
   "execution_count": 35,
   "metadata": {},
   "outputs": [
    {
     "name": "stdout",
     "output_type": "stream",
     "text": [
      "   success  news intensity  price  sentiment_2  sentiment_3  sentiment_4\n",
      "0        0             380  54.15            0            1            0\n",
      "1        1             660  55.05            0            1            0\n",
      "2        1             800  60.00            0            0            0\n",
      "3        1             640  47.85            0            0            1\n",
      "4        0             520  43.95            0            0            1\n"
     ]
    }
   ],
   "source": [
    "data = df[['success','news intensity','price']].join(data_dummy[['sentiment_2','sentiment_3','sentiment_4']])\n",
    "print(data.head())"
   ]
  },
  {
   "cell_type": "code",
   "execution_count": 36,
   "metadata": {},
   "outputs": [
    {
     "name": "stdout",
     "output_type": "stream",
     "text": [
      "   success  news intensity  price  sentiment_2  sentiment_3  sentiment_4  intersect\n",
      "0        0             380  54.15            0            1            0        1.0\n",
      "1        1             660  55.05            0            1            0        1.0\n",
      "2        1             800  60.00            0            0            0        1.0\n",
      "3        1             640  47.85            0            0            1        1.0\n",
      "4        0             520  43.95            0            0            1        1.0\n"
     ]
    }
   ],
   "source": [
    "data['intersect'] = np.ones(len(data))\n",
    "print(data.head())"
   ]
  },
  {
   "cell_type": "code",
   "execution_count": 37,
   "metadata": {},
   "outputs": [
    {
     "name": "stdout",
     "output_type": "stream",
     "text": [
      "Index(['news intensity', 'price', 'sentiment_2', 'sentiment_3', 'sentiment_4', 'intersect'], dtype='object')\n"
     ]
    }
   ],
   "source": [
    "colnames = data.columns[1:]\n",
    "print(colnames)"
   ]
  },
  {
   "cell_type": "code",
   "execution_count": 39,
   "metadata": {},
   "outputs": [
    {
     "name": "stdout",
     "output_type": "stream",
     "text": [
      "Optimization terminated successfully.\n",
      "         Current function value: 0.573147\n",
      "         Iterations 6\n",
      "                           Logit Regression Results                           \n",
      "==============================================================================\n",
      "Dep. Variable:                success   No. Observations:                  400\n",
      "Model:                          Logit   Df Residuals:                      394\n",
      "Method:                           MLE   Df Model:                            5\n",
      "Date:                Wed, 22 Nov 2017   Pseudo R-squ.:                 0.08292\n",
      "Time:                        23:47:19   Log-Likelihood:                -229.26\n",
      "converged:                       True   LL-Null:                       -249.99\n",
      "                                        LLR p-value:                 7.578e-08\n",
      "==================================================================================\n",
      "                     coef    std err          z      P>|z|      [0.025      0.975]\n",
      "----------------------------------------------------------------------------------\n",
      "news intensity     0.0023      0.001      2.070      0.038       0.000       0.004\n",
      "price              0.0536      0.022      2.423      0.015       0.010       0.097\n",
      "sentiment_2       -0.6754      0.316     -2.134      0.033      -1.296      -0.055\n",
      "sentiment_3       -1.3402      0.345     -3.881      0.000      -2.017      -0.663\n",
      "sentiment_4       -1.5515      0.418     -3.713      0.000      -2.370      -0.733\n",
      "intersect         -3.9900      1.140     -3.500      0.000      -6.224      -1.756\n",
      "==================================================================================\n"
     ]
    }
   ],
   "source": [
    "Logit_model = sm.Logit(data['success'],data[colnames])\n",
    "result = Logit_model.fit()\n",
    "print(result.summary())"
   ]
  },
  {
   "cell_type": "code",
   "execution_count": 40,
   "metadata": {},
   "outputs": [
    {
     "name": "stdout",
     "output_type": "stream",
     "text": [
      "                       0         1\n",
      "news intensity  0.000120  0.004409\n",
      "price           0.010246  0.096959\n",
      "sentiment_2    -1.295751 -0.055135\n",
      "sentiment_3    -2.016992 -0.663416\n",
      "sentiment_4    -2.370399 -0.732529\n",
      "intersect      -6.224242 -1.755716\n"
     ]
    }
   ],
   "source": [
    "print(result.conf_int())"
   ]
  },
  {
   "cell_type": "code",
   "execution_count": 42,
   "metadata": {},
   "outputs": [
    {
     "name": "stdout",
     "output_type": "stream",
     "text": [
      "news intensity    1.002267\n",
      "price             1.055065\n",
      "sentiment_2       0.508931\n",
      "sentiment_3       0.261792\n",
      "sentiment_4       0.211938\n",
      "intersect         0.018500\n",
      "dtype: float64\n"
     ]
    }
   ],
   "source": [
    "print(np.exp(result.params))"
   ]
  },
  {
   "cell_type": "code",
   "execution_count": null,
   "metadata": {
    "collapsed": true
   },
   "outputs": [],
   "source": []
  }
 ],
 "metadata": {
  "kernelspec": {
   "display_name": "Python 3",
   "language": "python",
   "name": "python3"
  },
  "language_info": {
   "codemirror_mode": {
    "name": "ipython",
    "version": 3
   },
   "file_extension": ".py",
   "mimetype": "text/x-python",
   "name": "python",
   "nbconvert_exporter": "python",
   "pygments_lexer": "ipython3",
   "version": "3.6.2"
  }
 },
 "nbformat": 4,
 "nbformat_minor": 2
}
