{
 "cells": [
  {
   "cell_type": "code",
   "execution_count": 59,
   "metadata": {
    "collapsed": true
   },
   "outputs": [],
   "source": [
    "from datetime import datetime\n",
    "import pandas as pd\n",
    "import matplotlib.pyplot as plt\n",
    "import numpy as np"
   ]
  },
  {
   "cell_type": "code",
   "execution_count": 60,
   "metadata": {},
   "outputs": [
    {
     "name": "stdout",
     "output_type": "stream",
     "text": [
      "                         date  tick_numbers\n",
      "0  2016-05-01 10:23:05.069722          3213\n",
      "1  2016-05-01 10:23:05.119994          4324\n",
      "2  2016-05-02 10:23:05.178768          2132\n",
      "3  2016-05-02 10:23:05.230071         43242\n",
      "4  2016-05-02 10:23:05.230071          4234\n",
      "5  2016-05-02 10:23:05.280592          4234\n",
      "6  2016-05-03 10:23:05.332662          4324\n",
      "7  2016-05-03 10:23:05.385109          1245\n",
      "8  2016-05-04 10:23:05.436523          1555\n",
      "9  2016-05-04 10:23:05.486877        543345\n"
     ]
    }
   ],
   "source": [
    "date = ['2016-05-01 10:23:05.069722', '2016-05-01 10:23:05.119994', '2016-05-02 10:23:05.178768',\n",
    "        '2016-05-02 10:23:05.230071', '2016-05-02 10:23:05.230071', '2016-05-02 10:23:05.280592',\n",
    "        '2016-05-03 10:23:05.332662', '2016-05-03 10:23:05.385109', '2016-05-04 10:23:05.436523',\n",
    "        '2016-05-04 10:23:05.486877']\n",
    "tick = [3213,4324,2132,43242,4234,4234,4324,1245,1555,543345]\n",
    "ts = pd.DataFrame({'date':date,'tick_numbers':tick})\n",
    "print(ts)"
   ]
  },
  {
   "cell_type": "code",
   "execution_count": 61,
   "metadata": {},
   "outputs": [
    {
     "name": "stdout",
     "output_type": "stream",
     "text": [
      "                            tick_numbers\n",
      "date                                    \n",
      "2016-05-01 10:23:05.069722          3213\n",
      "2016-05-01 10:23:05.119994          4324\n",
      "2016-05-02 10:23:05.178768          2132\n",
      "2016-05-02 10:23:05.230071         43242\n",
      "2016-05-02 10:23:05.230071          4234\n",
      "2016-05-02 10:23:05.280592          4234\n",
      "2016-05-03 10:23:05.332662          4324\n",
      "2016-05-03 10:23:05.385109          1245\n",
      "2016-05-04 10:23:05.436523          1555\n",
      "2016-05-04 10:23:05.486877        543345\n"
     ]
    }
   ],
   "source": [
    "ts.index = pd.to_datetime(ts.date)\n",
    "del(ts['date'])\n",
    "print(ts)"
   ]
  },
  {
   "cell_type": "code",
   "execution_count": 62,
   "metadata": {},
   "outputs": [
    {
     "name": "stdout",
     "output_type": "stream",
     "text": [
      "                            tick_numbers\n",
      "date                                    \n",
      "2016-05-01 10:23:05.069722          3213\n",
      "2016-05-01 10:23:05.119994          4324\n",
      "2016-05-02 10:23:05.178768          2132\n",
      "2016-05-02 10:23:05.230071         43242\n",
      "2016-05-02 10:23:05.230071          4234\n",
      "2016-05-02 10:23:05.280592          4234\n",
      "2016-05-03 10:23:05.332662          4324\n",
      "2016-05-03 10:23:05.385109          1245\n",
      "2016-05-04 10:23:05.436523          1555\n",
      "2016-05-04 10:23:05.486877        543345\n"
     ]
    }
   ],
   "source": [
    "print(ts.truncate(before='2016-01-01'))"
   ]
  },
  {
   "cell_type": "code",
   "execution_count": 63,
   "metadata": {},
   "outputs": [
    {
     "name": "stdout",
     "output_type": "stream",
     "text": [
      "                            tick_numbers\n",
      "date                                    \n",
      "2016-05-01 10:23:05.069722          3213\n",
      "2016-05-01 10:23:05.119994          4324\n",
      "2016-05-02 10:23:05.178768          2132\n",
      "2016-05-02 10:23:05.230071         43242\n",
      "2016-05-02 10:23:05.230071          4234\n",
      "2016-05-02 10:23:05.280592          4234\n",
      "2016-05-03 10:23:05.332662          4324\n",
      "2016-05-03 10:23:05.385109          1245\n",
      "2016-05-04 10:23:05.436523          1555\n",
      "2016-05-04 10:23:05.486877        543345\n"
     ]
    }
   ],
   "source": [
    "print(ts.truncate(before='2016-05-01'))"
   ]
  },
  {
   "cell_type": "code",
   "execution_count": 64,
   "metadata": {},
   "outputs": [
    {
     "name": "stdout",
     "output_type": "stream",
     "text": [
      "                            tick_numbers\n",
      "date                                    \n",
      "2016-05-03 10:23:05.332662          4324\n",
      "2016-05-03 10:23:05.385109          1245\n",
      "2016-05-04 10:23:05.436523          1555\n",
      "2016-05-04 10:23:05.486877        543345\n"
     ]
    }
   ],
   "source": [
    "print(ts.truncate(before='2016-05-03'))"
   ]
  },
  {
   "cell_type": "code",
   "execution_count": 65,
   "metadata": {},
   "outputs": [
    {
     "name": "stdout",
     "output_type": "stream",
     "text": [
      "                            tick_numbers\n",
      "date                                    \n",
      "2016-05-01 10:23:05.069722          3213\n",
      "2016-05-01 10:23:05.119994          4324\n"
     ]
    }
   ],
   "source": [
    "print(ts.truncate(after='2016-05-02'))"
   ]
  },
  {
   "cell_type": "code",
   "execution_count": 66,
   "metadata": {},
   "outputs": [
    {
     "name": "stdout",
     "output_type": "stream",
     "text": [
      "2016-05-01 10:23:05.069722    1\n",
      "2016-05-01 10:23:05.119994    1\n",
      "2016-05-02 10:23:05.178768    1\n",
      "2016-05-02 10:23:05.230071    2\n",
      "2016-05-02 10:23:05.280592    1\n",
      "2016-05-03 10:23:05.332662    1\n",
      "2016-05-03 10:23:05.385109    1\n",
      "2016-05-04 10:23:05.436523    1\n",
      "2016-05-04 10:23:05.486877    1\n",
      "Name: date, dtype: int64\n"
     ]
    }
   ],
   "source": [
    "print(ts.index.value_counts().sort_index())"
   ]
  },
  {
   "cell_type": "code",
   "execution_count": 67,
   "metadata": {},
   "outputs": [
    {
     "name": "stdout",
     "output_type": "stream",
     "text": [
      "            tick_numbers\n",
      "date                    \n",
      "2016-05-01        3768.5\n",
      "2016-05-02       13460.5\n",
      "2016-05-03        2784.5\n",
      "2016-05-04      272450.0\n"
     ]
    }
   ],
   "source": [
    "print(ts.resample('D').mean())"
   ]
  },
  {
   "cell_type": "code",
   "execution_count": 68,
   "metadata": {},
   "outputs": [
    {
     "name": "stdout",
     "output_type": "stream",
     "text": [
      "            tick_numbers\n",
      "date                    \n",
      "2016-05-01          7537\n",
      "2016-05-02         53842\n",
      "2016-05-03          5569\n",
      "2016-05-04        544900\n"
     ]
    }
   ],
   "source": [
    "print(ts.resample('D').sum())"
   ]
  },
  {
   "cell_type": "code",
   "execution_count": 69,
   "metadata": {},
   "outputs": [
    {
     "data": {
      "image/png": "[encoded data removed]",
      "text/plain": [
       "<matplotlib.figure.Figure at 0x10fe492b0>"
      ]
     },
     "metadata": {},
     "output_type": "display_data"
    }
   ],
   "source": [
    "plt.plot(ts.resample('D').sum())\n",
    "plt.show()"
   ]
  },
  {
   "cell_type": "code",
   "execution_count": 70,
   "metadata": {},
   "outputs": [
    {
     "name": "stdout",
     "output_type": "stream",
     "text": [
      "             ARCA   BARX\n",
      "2012-04-01  24578  28633\n",
      "2012-04-02  22177  26542\n",
      "2012-04-03  23492  26554\n",
      "2012-04-04  24094  21707\n",
      "2012-04-05  24478  25568\n",
      "2012-04-06  20546  20518\n",
      "2012-04-07  27709  21730\n",
      "2012-04-08  23441  20892\n",
      "2012-04-09  27483  25675\n",
      "2012-04-10  26798  26358\n",
      "2012-04-11  26249  26721\n",
      "2012-04-12  23163  25893\n",
      "2012-04-13  26903  25883\n",
      "2012-04-14  25494  26888\n",
      "2012-04-15  29074  21906\n",
      "2012-04-16  29866  26078\n",
      "2012-04-17  25842  29927\n",
      "2012-04-18  26310  24217\n",
      "2012-04-19  24139  21861\n",
      "2012-04-20  20231  26445\n",
      "2012-04-21  28215  21682\n",
      "2012-04-22  21053  22164\n",
      "2012-04-23  23511  22760\n",
      "2012-04-24  29503  26546\n",
      "2012-04-25  21883  26533\n",
      "2012-04-26  20855  29020\n",
      "2012-04-27  22624  26949\n",
      "2012-04-28  24483  22441\n",
      "2012-04-29  22812  20108\n",
      "2012-04-30  21148  29341\n",
      "...           ...    ...\n",
      "2012-05-03  28529  23374\n",
      "2012-05-04  26251  20409\n",
      "2012-05-05  22437  28896\n",
      "2012-05-06  26178  29480\n",
      "2012-05-07  29525  21416\n",
      "2012-05-08  22419  24719\n",
      "2012-05-09  29288  27823\n",
      "2012-05-10  26149  25978\n",
      "2012-05-11  24204  25152\n",
      "2012-05-12  27227  29074\n",
      "2012-05-13  29614  21632\n",
      "2012-05-14  29979  26867\n",
      "2012-05-15  26736  21615\n",
      "2012-05-16  25867  21820\n",
      "2012-05-17  25706  23314\n",
      "2012-05-18  23148  24739\n",
      "2012-05-19  28952  21824\n",
      "2012-05-20  26441  27413\n",
      "2012-05-21  21170  27873\n",
      "2012-05-22  24786  26316\n",
      "2012-05-23  28786  20514\n",
      "2012-05-24  29401  25971\n",
      "2012-05-25  27982  21496\n",
      "2012-05-26  27226  20937\n",
      "2012-05-27  20279  29635\n",
      "2012-05-28  25895  23077\n",
      "2012-05-29  21873  29837\n",
      "2012-05-30  25183  24174\n",
      "2012-05-31  24608  20573\n",
      "2012-06-01  22732  29213\n",
      "\n",
      "[62 rows x 2 columns]\n"
     ]
    }
   ],
   "source": [
    "np.random.seed(12345)\n",
    "df = {}\n",
    "df['ARCA'] = np.random.randint(low=20000, high=30000, size=62) \n",
    "df['BARX'] = np.random.randint(low=20000, high=30000, size=62) \n",
    "df = pd.DataFrame(df)\n",
    "df.index = pd.date_range('4/1/2012', '6/1/2012')\n",
    "print(df)"
   ]
  },
  {
   "cell_type": "code",
   "execution_count": 71,
   "metadata": {},
   "outputs": [
    {
     "data": {
      "text/html": [
       "<div>\n",
       "<style scoped>\n",
       "    .dataframe tbody tr th:only-of-type {\n",
       "        vertical-align: middle;\n",
       "    }\n",
       "\n",
       "    .dataframe tbody tr th {\n",
       "        vertical-align: top;\n",
       "    }\n",
       "\n",
       "    .dataframe thead th {\n",
       "        text-align: right;\n",
       "    }\n",
       "</style>\n",
       "<table border=\"1\" class=\"dataframe\">\n",
       "  <thead>\n",
       "    <tr style=\"text-align: right;\">\n",
       "      <th></th>\n",
       "      <th>ARCA</th>\n",
       "      <th>BARX</th>\n",
       "    </tr>\n",
       "  </thead>\n",
       "  <tbody>\n",
       "    <tr>\n",
       "      <th>2012-05-05</th>\n",
       "      <td>24094</td>\n",
       "      <td>21707</td>\n",
       "    </tr>\n",
       "    <tr>\n",
       "      <th>2012-05-06</th>\n",
       "      <td>24478</td>\n",
       "      <td>25568</td>\n",
       "    </tr>\n",
       "    <tr>\n",
       "      <th>2012-05-07</th>\n",
       "      <td>20546</td>\n",
       "      <td>20518</td>\n",
       "    </tr>\n",
       "    <tr>\n",
       "      <th>2012-05-08</th>\n",
       "      <td>27709</td>\n",
       "      <td>21730</td>\n",
       "    </tr>\n",
       "    <tr>\n",
       "      <th>2012-05-09</th>\n",
       "      <td>23441</td>\n",
       "      <td>20892</td>\n",
       "    </tr>\n",
       "  </tbody>\n",
       "</table>\n",
       "</div>"
      ],
      "text/plain": [
       "             ARCA   BARX\n",
       "2012-05-05  24094  21707\n",
       "2012-05-06  24478  25568\n",
       "2012-05-07  20546  20518\n",
       "2012-05-08  27709  21730\n",
       "2012-05-09  23441  20892"
      ]
     },
     "execution_count": 71,
     "metadata": {},
     "output_type": "execute_result"
    }
   ],
   "source": [
    "df = df.truncate(before='2012-04-04',after='2012-05-24')\n",
    "df.index += pd.DateOffset(months=1, days=1)\n",
    "df.head()"
   ]
  },
  {
   "cell_type": "code",
   "execution_count": 72,
   "metadata": {},
   "outputs": [
    {
     "name": "stdout",
     "output_type": "stream",
     "text": [
      "               ARCA     BARX\n",
      "2012-05-05      NaN      NaN\n",
      "2012-05-06  24094.0  21707.0\n",
      "2012-05-07  24478.0  25568.0\n",
      "2012-05-08  20546.0  20518.0\n",
      "2012-05-09  27709.0  21730.0\n"
     ]
    }
   ],
   "source": [
    "print(df.shift(1).head())"
   ]
  },
  {
   "cell_type": "code",
   "execution_count": 73,
   "metadata": {},
   "outputs": [
    {
     "name": "stdout",
     "output_type": "stream",
     "text": [
      "2012-05-05    24478.0\n",
      "2012-05-06    20546.0\n",
      "2012-05-07    27709.0\n",
      "2012-05-08    23441.0\n",
      "2012-05-09    27483.0\n",
      "Name: ARCA, dtype: float64\n"
     ]
    }
   ],
   "source": [
    "print(df['ARCA'].shift(-1).head())"
   ]
  },
  {
   "cell_type": "code",
   "execution_count": 74,
   "metadata": {},
   "outputs": [
    {
     "data": {
      "text/html": [
       "<div>\n",
       "<style scoped>\n",
       "    .dataframe tbody tr th:only-of-type {\n",
       "        vertical-align: middle;\n",
       "    }\n",
       "\n",
       "    .dataframe tbody tr th {\n",
       "        vertical-align: top;\n",
       "    }\n",
       "\n",
       "    .dataframe thead th {\n",
       "        text-align: right;\n",
       "    }\n",
       "</style>\n",
       "<table border=\"1\" class=\"dataframe\">\n",
       "  <thead>\n",
       "    <tr style=\"text-align: right;\">\n",
       "      <th></th>\n",
       "      <th>ARCA</th>\n",
       "      <th>BARX</th>\n",
       "    </tr>\n",
       "  </thead>\n",
       "  <tbody>\n",
       "    <tr>\n",
       "      <th>2012-05-06</th>\n",
       "      <td>48572</td>\n",
       "      <td>47275</td>\n",
       "    </tr>\n",
       "    <tr>\n",
       "      <th>2012-05-20</th>\n",
       "      <td>363017</td>\n",
       "      <td>344547</td>\n",
       "    </tr>\n",
       "    <tr>\n",
       "      <th>2012-06-03</th>\n",
       "      <td>300164</td>\n",
       "      <td>319020</td>\n",
       "    </tr>\n",
       "    <tr>\n",
       "      <th>2012-06-17</th>\n",
       "      <td>374403</td>\n",
       "      <td>348255</td>\n",
       "    </tr>\n",
       "    <tr>\n",
       "      <th>2012-07-01</th>\n",
       "      <td>208390</td>\n",
       "      <td>197964</td>\n",
       "    </tr>\n",
       "  </tbody>\n",
       "</table>\n",
       "</div>"
      ],
      "text/plain": [
       "              ARCA    BARX\n",
       "2012-05-06   48572   47275\n",
       "2012-05-20  363017  344547\n",
       "2012-06-03  300164  319020\n",
       "2012-06-17  374403  348255\n",
       "2012-07-01  208390  197964"
      ]
     },
     "execution_count": 74,
     "metadata": {},
     "output_type": "execute_result"
    }
   ],
   "source": [
    "df.resample('2W-SUN').sum()"
   ]
  },
  {
   "cell_type": "code",
   "execution_count": 75,
   "metadata": {},
   "outputs": [
    {
     "data": {
      "text/html": [
       "<div>\n",
       "<style scoped>\n",
       "    .dataframe tbody tr th:only-of-type {\n",
       "        vertical-align: middle;\n",
       "    }\n",
       "\n",
       "    .dataframe tbody tr th {\n",
       "        vertical-align: top;\n",
       "    }\n",
       "\n",
       "    .dataframe thead th {\n",
       "        text-align: right;\n",
       "    }\n",
       "</style>\n",
       "<table border=\"1\" class=\"dataframe\">\n",
       "  <thead>\n",
       "    <tr style=\"text-align: right;\">\n",
       "      <th></th>\n",
       "      <th>ARCA</th>\n",
       "      <th>BARX</th>\n",
       "    </tr>\n",
       "  </thead>\n",
       "  <tbody>\n",
       "    <tr>\n",
       "      <th>2012-05-06</th>\n",
       "      <td>24286.000000</td>\n",
       "      <td>23637.500000</td>\n",
       "    </tr>\n",
       "    <tr>\n",
       "      <th>2012-05-20</th>\n",
       "      <td>25929.785714</td>\n",
       "      <td>24610.500000</td>\n",
       "    </tr>\n",
       "    <tr>\n",
       "      <th>2012-06-03</th>\n",
       "      <td>23089.538462</td>\n",
       "      <td>24540.000000</td>\n",
       "    </tr>\n",
       "    <tr>\n",
       "      <th>2012-06-17</th>\n",
       "      <td>26743.071429</td>\n",
       "      <td>24875.357143</td>\n",
       "    </tr>\n",
       "    <tr>\n",
       "      <th>2012-07-01</th>\n",
       "      <td>26048.750000</td>\n",
       "      <td>24745.500000</td>\n",
       "    </tr>\n",
       "  </tbody>\n",
       "</table>\n",
       "</div>"
      ],
      "text/plain": [
       "                    ARCA          BARX\n",
       "2012-05-06  24286.000000  23637.500000\n",
       "2012-05-20  25929.785714  24610.500000\n",
       "2012-06-03  23089.538462  24540.000000\n",
       "2012-06-17  26743.071429  24875.357143\n",
       "2012-07-01  26048.750000  24745.500000"
      ]
     },
     "execution_count": 75,
     "metadata": {},
     "output_type": "execute_result"
    }
   ],
   "source": [
    "df.resample('2W-SUN').mean()"
   ]
  }
 ],
 "metadata": {
  "kernelspec": {
   "display_name": "Python 3",
   "language": "python",
   "name": "python3"
  },
  "language_info": {
   "codemirror_mode": {
    "name": "ipython",
    "version": 3
   },
   "file_extension": ".py",
   "mimetype": "text/x-python",
   "name": "python",
   "nbconvert_exporter": "python",
   "pygments_lexer": "ipython3",
   "version": "3.6.2"
  }
 },
 "nbformat": 4,
 "nbformat_minor": 2
}
